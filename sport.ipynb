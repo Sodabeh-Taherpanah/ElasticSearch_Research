import pandas as pd
import numpy as np
import matplotlib.pyplot as plt
import seaborn as sns
from sklearn.model_selection import train_test_split
from sklearn.preprocessing import StandardScaler
from sklearn.linear_model import LogisticRegression
from sklearn.metrics import accuracy_score, classification_report

# Generate synthetic fitness data
data = {
    'steps_per_day': np.random.randint(2000, 15000, 500),
    'avg_heart_rate': np.random.randint(60, 160, 500),
    'calories_burned': np.random.randint(1500, 3500, 500),
    'workout_minutes': np.random.randint(10, 120, 500),
    'goal_achieved': np.random.choice([0, 1], 500)  # 1 = Goal met, 0 = Goal not met
}

# Convert to DataFrame
df = pd.DataFrame(data)

# Data visualization
plt.figure(figsize=(10, 5))
sns.histplot(df['steps_per_day'], bins=30, kde=True)
plt.title('Distribution of Steps Per Day')
plt.show()

# Split data into features and target
X = df.drop(columns=['goal_achieved'])
y = df['goal_achieved']

# Train-test split
X_train, X_test, y_train, y_test = train_test_split(X, y, test_size=0.2, random_state=42)

# Standardize data
scaler = StandardScaler()
X_train = scaler.fit_transform(X_train)
X_test = scaler.transform(X_test)

# Train a logistic regression model
model = LogisticRegression()
model.fit(X_train, y_train)

# Predictions
y_pred = model.predict(X_test)

# Evaluate model
accuracy = accuracy_score(y_test, y_pred)
print(f'Accuracy: {accuracy:.2f}')
print(classification_report(y_test, y_pred))
